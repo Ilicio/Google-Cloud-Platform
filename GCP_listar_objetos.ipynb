{
 "cells": [
  {
   "cell_type": "code",
   "execution_count": 3,
   "id": "b58da89e",
   "metadata": {},
   "outputs": [],
   "source": [
    "# Carregar bibliotecas\n",
    "\n",
    "from google.cloud import storage\n",
    "import os"
   ]
  },
  {
   "cell_type": "code",
   "execution_count": 4,
   "id": "6e8e0961",
   "metadata": {},
   "outputs": [],
   "source": [
    "# Autenticar credenciais com o GCP\n",
    "\n",
    "os.environ['GOOGLE_APPLICATION_CREDENTIALS'] = r\"caminho_chave_privada/chave.json\""
   ]
  },
  {
   "cell_type": "code",
   "execution_count": 8,
   "id": "a88f80fa",
   "metadata": {},
   "outputs": [
    {
     "name": "stdout",
     "output_type": "stream",
     "text": [
      "image0001.jpg\n",
      "image0002.jpg\n",
      "image0003.jpg\n",
      "image0004.jpg\n",
      "image0005.jpg\n",
      "image0006.jpg\n",
      "dataset\\labels_csv_python.csv\n",
      "dataset_labels_csv_python.csv\n"
     ]
    }
   ],
   "source": [
    "# Selecionar bucket e listar objetos\n",
    "\n",
    "client = storage.Client()\n",
    "BUCKET_NAME = 'ilicio_bucket'\n",
    "bucket = client.get_bucket(BUCKET_NAME)\n",
    "\n",
    "blobs = bucket.list_blobs()\n",
    "\n",
    "for blob in blobs:\n",
    "    try:\n",
    "        num = blob.name.count('/')\n",
    "        string = blob.name.split('/')[num]\n",
    "        if string != \"\":\n",
    "            print(string)\n",
    "    except:\n",
    "        print(\"An exception occurred\")"
   ]
  },
  {
   "cell_type": "code",
   "execution_count": null,
   "id": "bd619d9f",
   "metadata": {},
   "outputs": [],
   "source": []
  }
 ],
 "metadata": {
  "kernelspec": {
   "display_name": "Python 3 (ipykernel)",
   "language": "python",
   "name": "python3"
  },
  "language_info": {
   "codemirror_mode": {
    "name": "ipython",
    "version": 3
   },
   "file_extension": ".py",
   "mimetype": "text/x-python",
   "name": "python",
   "nbconvert_exporter": "python",
   "pygments_lexer": "ipython3",
   "version": "3.9.12"
  }
 },
 "nbformat": 4,
 "nbformat_minor": 5
}
