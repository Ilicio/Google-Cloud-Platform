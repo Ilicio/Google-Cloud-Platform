{
 "cells": [
  {
   "cell_type": "code",
   "execution_count": null,
   "id": "15693876",
   "metadata": {},
   "outputs": [],
   "source": [
    "# Importar bibliotecas\n",
    "\n",
    "import os\n",
    "from google.cloud import storage"
   ]
  },
  {
   "cell_type": "code",
   "execution_count": null,
   "id": "50cd3dd2",
   "metadata": {},
   "outputs": [],
   "source": [
    "# Autenticar com o GCP e credenciais\n",
    "\n",
    "os.environ['GOOGLE_APPLICATION_CREDENTIALS'] = r\"caminho_chave_privada/chave.json\""
   ]
  },
  {
   "cell_type": "code",
   "execution_count": null,
   "id": "37325ca9",
   "metadata": {},
   "outputs": [],
   "source": [
    "# Instanciar um cliente\n",
    "\n",
    "storage_client = storage.Client()"
   ]
  },
  {
   "cell_type": "code",
   "execution_count": null,
   "id": "30b386fc",
   "metadata": {},
   "outputs": [],
   "source": [
    "# Definir nome do bucket\n",
    "\n",
    "my_bucket_name = \"ilicio_bucket\""
   ]
  },
  {
   "cell_type": "code",
   "execution_count": null,
   "id": "8226c4f5",
   "metadata": {},
   "outputs": [],
   "source": [
    "# Criar bucket padrão\n",
    "\n",
    "bucket = storage_client.create_bucket(my_bucket_name)\n",
    "msg = f\"Bucket with name {bucket.name} has been created\"\n",
    "print(msg)"
   ]
  },
  {
   "cell_type": "code",
   "execution_count": null,
   "id": "e8e348a6",
   "metadata": {},
   "outputs": [],
   "source": [
    "# Listar objetos do bucket\n",
    "\n",
    "object_generator = storage_client.list_blobs(my_bucket_name)\n",
    "for i in object_generator:\n",
    "    print(i)"
   ]
  },
  {
   "cell_type": "code",
   "execution_count": null,
   "id": "e841eab7",
   "metadata": {},
   "outputs": [],
   "source": []
  }
 ],
 "metadata": {
  "kernelspec": {
   "display_name": "Python 3 (ipykernel)",
   "language": "python",
   "name": "python3"
  },
  "language_info": {
   "codemirror_mode": {
    "name": "ipython",
    "version": 3
   },
   "file_extension": ".py",
   "mimetype": "text/x-python",
   "name": "python",
   "nbconvert_exporter": "python",
   "pygments_lexer": "ipython3",
   "version": "3.9.12"
  }
 },
 "nbformat": 4,
 "nbformat_minor": 5
}
