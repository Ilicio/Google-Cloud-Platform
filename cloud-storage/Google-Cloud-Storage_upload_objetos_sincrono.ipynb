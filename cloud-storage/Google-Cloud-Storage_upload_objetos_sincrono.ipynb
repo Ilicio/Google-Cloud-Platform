{
 "cells": [
  {
   "cell_type": "code",
   "execution_count": null,
   "id": "469b2fbf",
   "metadata": {},
   "outputs": [],
   "source": [
    "# Importar bibliotecas\n",
    "\n",
    "from google.cloud import storage\n",
    "import os\n",
    "\n",
    "#pip install --upgrade google-cloud-storage\n"
   ]
  },
  {
   "cell_type": "code",
   "execution_count": null,
   "id": "d994e754",
   "metadata": {},
   "outputs": [],
   "source": [
    "# Autenticação com o GCP e credenciais\n",
    "\n",
    "os.environ['GOOGLE_APPLICATION_CREDENTIALS'] = r\"C:/Users/ilicio/Desktop/Linux/estudos-ilicio-cbb35bf6f539.json\""
   ]
  },
  {
   "cell_type": "code",
   "execution_count": null,
   "id": "0f96cfb5",
   "metadata": {},
   "outputs": [],
   "source": [
    "# Instanciar um cliente\n",
    "\n",
    "storage_client = storage.Client()"
   ]
  },
  {
   "cell_type": "code",
   "execution_count": null,
   "id": "48348f09",
   "metadata": {},
   "outputs": [],
   "source": [
    "# Listar e selecionar bucket\n",
    "\n",
    "buckets = list(storage_client.list_buckets())\n",
    "bucket = storage_client.get_bucket(\"ilicio_bucket_upload\")"
   ]
  },
  {
   "cell_type": "code",
   "execution_count": null,
   "id": "d7235401",
   "metadata": {},
   "outputs": [],
   "source": [
    "# Setar path do bucket e origem do objeto\n",
    "\n",
    "blob = bucket.blob('chaves/estudos-ilicio-cbb35bf6f539.json')\n",
    "blob.upload_from_filename('C:/Users/ilicio/Desktop/Linux/estudos-ilicio-cbb35bf6f539.json')\n",
    "print(buckets)"
   ]
  }
 ],
 "metadata": {
  "kernelspec": {
   "display_name": "Python 3 (ipykernel)",
   "language": "python",
   "name": "python3"
  },
  "language_info": {
   "codemirror_mode": {
    "name": "ipython",
    "version": 3
   },
   "file_extension": ".py",
   "mimetype": "text/x-python",
   "name": "python",
   "nbconvert_exporter": "python",
   "pygments_lexer": "ipython3",
   "version": "3.9.12"
  }
 },
 "nbformat": 4,
 "nbformat_minor": 5
}
