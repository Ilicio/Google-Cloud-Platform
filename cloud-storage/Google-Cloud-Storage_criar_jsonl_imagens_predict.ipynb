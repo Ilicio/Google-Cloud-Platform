{
 "cells": [
  {
   "cell_type": "code",
   "execution_count": 1,
   "id": "37014653",
   "metadata": {},
   "outputs": [],
   "source": [
    "# Importar bibliotecas\n",
    "\n",
    "import os\n",
    "from google.cloud import storage"
   ]
  },
  {
   "cell_type": "code",
   "execution_count": 4,
   "id": "f7e62821",
   "metadata": {},
   "outputs": [],
   "source": [
    "# Autenticar credenciais com o GCP\n",
    "\n",
    "os.environ['GOOGLE_APPLICATION_CREDENTIALS'] = r\"C:/Users/ilicio/Desktop/chaves/estudos-ilicio-cbb35bf6f539.json\""
   ]
  },
  {
   "cell_type": "code",
   "execution_count": 5,
   "id": "04545ad8",
   "metadata": {},
   "outputs": [],
   "source": [
    "# Instanciar um cliente\n",
    "\n",
    "storage_client = storage.Client()"
   ]
  },
  {
   "cell_type": "code",
   "execution_count": null,
   "id": "44e5ce98",
   "metadata": {},
   "outputs": [],
   "source": [
    "# Atribuir nome do bucket\n",
    "\n",
    "bucket_name = 'arthropoda_taxonomy_orders'\n",
    "path_in_bucket = 'Preditor'\n",
    "path_in_bucket_lista = 'Lista'"
   ]
  },
  {
   "cell_type": "code",
   "execution_count": null,
   "id": "3556d1c6",
   "metadata": {},
   "outputs": [],
   "source": [
    "blobs = storage_client.list_blobs(bucket_name, prefix=path_in_bucket)\n",
    "\n",
    "# Ler blobs, parsing da informação e criar o arquivo csv\n",
    "filename = 'predict_images.jsonl'\n",
    "with open(filename, 'w+') as f:\n",
    "    for blob in blobs:\n",
    "        if '.jpg' in blob.name:\n",
    "            bucket_path = '{\"content\": \"gs://' + os.path.join(bucket_name, blob.name)\n",
    "            label = blob.name.split('/')[-2]\n",
    "            f.write(', '.join([bucket_path, label]))\n",
    "            f.write(\"\\n\")"
   ]
  },
  {
   "cell_type": "code",
   "execution_count": null,
   "id": "9fda813c",
   "metadata": {},
   "outputs": [],
   "source": [
    "# Subir arquivo csv no bucket do GCP\n",
    "\n",
    "bucket = storage_client.get_bucket(bucket_name)\n",
    "destination_blob_name = os.path.join(path_in_bucket_lista, filename)\n",
    "blob = bucket.blob(destination_blob_name)\n",
    "blob.upload_from_filename(filename)"
   ]
  }
 ],
 "metadata": {
  "kernelspec": {
   "display_name": "Python 3 (ipykernel)",
   "language": "python",
   "name": "python3"
  },
  "language_info": {
   "codemirror_mode": {
    "name": "ipython",
    "version": 3
   },
   "file_extension": ".py",
   "mimetype": "text/x-python",
   "name": "python",
   "nbconvert_exporter": "python",
   "pygments_lexer": "ipython3",
   "version": "3.9.12"
  }
 },
 "nbformat": 4,
 "nbformat_minor": 5
}
