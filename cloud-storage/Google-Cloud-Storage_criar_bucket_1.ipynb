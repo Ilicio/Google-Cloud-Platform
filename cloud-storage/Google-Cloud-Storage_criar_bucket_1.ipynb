{
 "cells": [
  {
   "cell_type": "code",
   "execution_count": 38,
   "id": "94895c38",
   "metadata": {},
   "outputs": [],
   "source": [
    "# Setando chave privada com o Google Cloud Storage\n",
    "\n",
    "from google.cloud import storage\n",
    "path_to_private_key = 'C:/Users/ilicio/Desktop/estudos-ilicio-cbb35bf6f539.json'\n",
    "client = storage.Client.from_service_account_json(json_credentials_path=path_to_private_key)"
   ]
  },
  {
   "cell_type": "code",
   "execution_count": 39,
   "id": "72e28cb8",
   "metadata": {},
   "outputs": [
    {
     "name": "stdout",
     "output_type": "stream",
     "text": [
      "Bucket bucket_ilicio18 created.\n"
     ]
    }
   ],
   "source": [
    "# Criando bucket\n",
    "\n",
    "bucket = client.create_bucket('bucket_ilicio18')\n",
    "\n",
    "print(f\"Bucket {bucket.name} created.\")"
   ]
  },
  {
   "cell_type": "code",
   "execution_count": null,
   "id": "b30c97a2",
   "metadata": {},
   "outputs": [],
   "source": []
  }
 ],
 "metadata": {
  "kernelspec": {
   "display_name": "Python 3 (ipykernel)",
   "language": "python",
   "name": "python3"
  },
  "language_info": {
   "codemirror_mode": {
    "name": "ipython",
    "version": 3
   },
   "file_extension": ".py",
   "mimetype": "text/x-python",
   "name": "python",
   "nbconvert_exporter": "python",
   "pygments_lexer": "ipython3",
   "version": "3.9.12"
  }
 },
 "nbformat": 4,
 "nbformat_minor": 5
}
