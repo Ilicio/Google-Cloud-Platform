{
 "cells": [
  {
   "cell_type": "code",
   "execution_count": null,
   "id": "4875f8ba",
   "metadata": {},
   "outputs": [],
   "source": [
    "import asyncio\n",
    "import aiohttp\n",
    "# pip install aiofile\n",
    "from aiofile import AIOFile\n",
    "# pip install gcloud-aio-storage\n",
    "from gcloud.aio.storage import Storage \n",
    "\n",
    "BUCKET_NAME = '<bucket_name>'\n",
    "FILE_NAME  = 'requirements.txt'\n",
    "async def async_upload_to_bucket(blob_name, file_obj, folder='uploads'):\n",
    "    \"\"\" Upload csv files to bucket. \"\"\"\n",
    "    async with aiohttp.ClientSession() as session:\n",
    "        storage = Storage(service_file='./creds.json', session=session) \n",
    "        status = await storage.upload(BUCKET_NAME, f'{folder}/{blob_name}', file_obj)\n",
    "        #info of the uploaded file\n",
    "        # print(status)\n",
    "        return status['selfLink']\n",
    "        \n",
    "\n",
    "async def main():\n",
    "    async with AIOFile(FILE_NAME, mode='r') as afp:\n",
    "        f = await afp.read()\n",
    "        url = await async_upload_to_bucket(FILE_NAME, f)\n",
    "        print(url)\n",
    "\n",
    "\n",
    "# Python 3.6\n",
    "loop = asyncio.get_event_loop()\n",
    "loop.run_until_complete(main())\n",
    "\n",
    "# Python 3.7+\n",
    "# asyncio.run(main()) "
   ]
  }
 ],
 "metadata": {
  "kernelspec": {
   "display_name": "Python 3 (ipykernel)",
   "language": "python",
   "name": "python3"
  },
  "language_info": {
   "codemirror_mode": {
    "name": "ipython",
    "version": 3
   },
   "file_extension": ".py",
   "mimetype": "text/x-python",
   "name": "python",
   "nbconvert_exporter": "python",
   "pygments_lexer": "ipython3",
   "version": "3.9.12"
  }
 },
 "nbformat": 4,
 "nbformat_minor": 5
}
